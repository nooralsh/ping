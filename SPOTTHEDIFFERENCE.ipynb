{
 "cells": [
  {
   "cell_type": "code",
   "execution_count": 23,
   "metadata": {
    "collapsed": true
   },
   "outputs": [],
   "source": [
    "from collections import OrderedDict\n",
    "import nibabel as nb\n",
    "import numpy as np\n",
    "import os"
   ]
  },
  {
   "cell_type": "code",
   "execution_count": 9,
   "metadata": {
    "collapsed": false
   },
   "outputs": [
    {
     "data": {
      "text/plain": [
       "{'p0007': ['/Users/nalsharif/Desktop/science/junk/p0007/20100128_144417PINGPROTOCOL0121102s002a1001.nii.gz',\n",
       "  '/Users/nalsharif/Desktop/science/junk/p0007/co20100128_144417PINGPROTOCOL0121102s002a1001.nii.gz',\n",
       "  '/Users/nalsharif/Desktop/science/junk/p0007/o20100128_144417PINGPROTOCOL0121102s002a1001.nii.gz',\n",
       "  '/Users/nalsharif/Desktop/science/junk/p0007/p0007_20100128_144417_2_mri.nii.gz'],\n",
       " 'p0814': ['/Users/nalsharif/Desktop/science/junk/p0814/20110101_180409MPRAGE1mmTR2170140Hzp78fromAPPs003a1001.nii.gz',\n",
       "  '/Users/nalsharif/Desktop/science/junk/p0814/co20110101_180409MPRAGE1mmTR2170140Hzp78fromAPPs003a1001.nii.gz',\n",
       "  '/Users/nalsharif/Desktop/science/junk/p0814/o20110101_180409MPRAGE1mmTR2170140Hzp78fromAPPs003a1001.nii.gz',\n",
       "  '/Users/nalsharif/Desktop/science/junk/p0814/p0814_20110131_180409_3_mri.nii.gz']}"
      ]
     },
     "execution_count": 9,
     "metadata": {},
     "output_type": "execute_result"
    }
   ],
   "source": [
    "basepath = '/Users/nalsharif/Desktop/science/junk/'\n",
    "subid = ['p0007', 'p0814']\n",
    "files = {}\n",
    "for sub in subid:\n",
    "    files[sub] = [os.path.join(root, fl)\n",
    "                  for root, dirs, file in os.walk(os.path.join(basepath, sub))\n",
    "                  for fl in file\n",
    "                  if fl.endswith('.nii.gz')]\n",
    "files"
   ]
  },
  {
   "cell_type": "code",
   "execution_count": 39,
   "metadata": {
    "collapsed": false
   },
   "outputs": [
    {
     "name": "stdout",
     "output_type": "stream",
     "text": [
      "sub: p0007\n",
      "--------------------------\n",
      "name: orig\n",
      "datatype: int16\n",
      "shape: (256, 256, 166)\n",
      "sum: -394255\n",
      "affine:\n",
      "[[   0.            0.            1.20000005  -95.34140015]\n",
      " [  -0.9375        0.            0.          164.16600037]\n",
      " [   0.            0.9375        0.         -122.45850372]\n",
      " [   0.            0.            0.            1.        ]]\n",
      "\n",
      "--------------------------\n",
      "\n",
      "name: orie\n",
      "datatype: int16\n",
      "shape: (166, 256, 256)\n",
      "sum: 326641\n",
      "affine:\n",
      "[[   1.20000005    0.            0.          -95.34140015]\n",
      " [   0.            0.9375        0.          -74.89649963]\n",
      " [   0.            0.            0.9375     -122.45850372]\n",
      " [   0.            0.            0.            1.        ]]\n",
      "\n",
      "--------------------------\n",
      "\n",
      "name: crop\n",
      "datatype: int16\n",
      "shape: (166, 252, 210)\n",
      "sum: 139804\n",
      "affine:\n",
      "[[  1.20000005   0.           0.         -95.34140015]\n",
      " [  0.           0.9375       0.         -74.89649963]\n",
      " [  0.           0.           0.9375     -81.20850372]\n",
      " [  0.           0.           0.           1.        ]]\n",
      "\n",
      "--------------------------\n",
      "\n",
      "name: fina\n",
      "datatype: int16\n",
      "shape: (166, 256, 256)\n",
      "sum: 326641\n",
      "affine:\n",
      "[[   1.20000005    0.            0.          -95.34140015]\n",
      " [   0.            0.9375        0.          -74.89649963]\n",
      " [   0.            0.            0.9375     -122.45850372]\n",
      " [   0.            0.            0.            1.        ]]\n",
      "\n",
      "--------------------------\n",
      "\n",
      "--------------------------\n",
      "\n",
      "sub: p0814\n",
      "--------------------------\n",
      "name: orig\n",
      "datatype: int16\n",
      "shape: (256, 256, 192)\n",
      "sum: 260021\n",
      "affine:\n",
      "[[  4.36193720e-02   5.40273972e-02   9.97586250e-01  -1.04414009e+02]\n",
      " [ -9.99048233e-01   2.35890248e-03   4.35555428e-02   1.63678314e+02]\n",
      " [  0.00000000e+00   9.98536646e-01  -5.40788695e-02  -1.37290756e+02]\n",
      " [  0.00000000e+00   0.00000000e+00   0.00000000e+00   1.00000000e+00]]\n",
      "\n",
      "--------------------------\n",
      "\n",
      "name: orie\n",
      "datatype: int16\n",
      "shape: (192, 256, 256)\n",
      "sum: -591947\n",
      "affine:\n",
      "[[  9.97586250e-01  -4.36193720e-02   5.40273972e-02  -9.32910690e+01]\n",
      " [  4.35555428e-02   9.99048233e-01   2.35890248e-03  -9.10789795e+01]\n",
      " [ -5.40788695e-02   0.00000000e+00   9.98536646e-01  -1.37290756e+02]\n",
      " [  0.00000000e+00   0.00000000e+00   0.00000000e+00   1.00000000e+00]]\n",
      "\n",
      "--------------------------\n",
      "\n",
      "name: crop\n",
      "datatype: int16\n",
      "shape: (192, 254, 192)\n",
      "sum: 180559\n",
      "affine:\n",
      "[[  9.97586250e-01  -4.36193720e-02   5.40273972e-02  -9.22645493e+01]\n",
      " [  4.35555428e-02   9.99048233e-01   2.35890248e-03  -9.10341568e+01]\n",
      " [ -5.40788695e-02   0.00000000e+00   9.98536646e-01  -1.18318558e+02]\n",
      " [  0.00000000e+00   0.00000000e+00   0.00000000e+00   1.00000000e+00]]\n",
      "\n",
      "--------------------------\n",
      "\n",
      "name: fina\n",
      "datatype: int16\n",
      "shape: (192, 256, 256)\n",
      "sum: -591947\n",
      "affine:\n",
      "[[  9.97586250e-01  -4.36193720e-02   5.40273972e-02  -9.32910690e+01]\n",
      " [  4.35555428e-02   9.99048233e-01   2.35890248e-03  -9.10789795e+01]\n",
      " [ -5.40788695e-02   0.00000000e+00   9.98536646e-01  -1.37290756e+02]\n",
      " [  0.00000000e+00   0.00000000e+00   0.00000000e+00   1.00000000e+00]]\n",
      "\n",
      "--------------------------\n",
      "\n",
      "--------------------------\n",
      "\n"
     ]
    }
   ],
   "source": [
    "for sub in subid:\n",
    "    curr = OrderedDict()\n",
    "    curr[\"orig\"] = files[sub][0]\n",
    "    curr[\"orie\"] = files[sub][2]\n",
    "    curr[\"crop\"] = files[sub][1]\n",
    "    curr[\"fina\"] = files[sub][3]\n",
    "\n",
    "    print(\"sub: {}\".format(sub))\n",
    "    print(\"--------------------------\")\n",
    "    for key in curr.keys():\n",
    "        im = nb.load(curr[key])\n",
    "        print(\"name: {}\".format(key))\n",
    "        print(\"datatype: {}\".format(im.get_data_dtype()))\n",
    "        print(\"shape: {}\".format(im.get_data().shape))\n",
    "        print(\"sum: {}\".format(sum(sum(sum(im.get_data())))))\n",
    "        print(\"affine:\\n{}\".format(im.affine))\n",
    "        print(\"\\n--------------------------\\n\")\n",
    "    print(\"--------------------------\\n\")"
   ]
  },
  {
   "cell_type": "code",
   "execution_count": 38,
   "metadata": {
    "collapsed": false
   },
   "outputs": [
    {
     "data": {
      "text/plain": [
       "16.0"
      ]
     },
     "execution_count": 38,
     "metadata": {},
     "output_type": "execute_result"
    }
   ],
   "source": [
    "sum(sum(np.ones((4,4))))"
   ]
  },
  {
   "cell_type": "code",
   "execution_count": null,
   "metadata": {
    "collapsed": true
   },
   "outputs": [],
   "source": []
  },
  {
   "cell_type": "code",
   "execution_count": null,
   "metadata": {
    "collapsed": true
   },
   "outputs": [],
   "source": []
  }
 ],
 "metadata": {
  "anaconda-cloud": {},
  "kernelspec": {
   "display_name": "Python [conda env:python3]",
   "language": "python",
   "name": "conda-env-python3-py"
  },
  "language_info": {
   "codemirror_mode": {
    "name": "ipython",
    "version": 3
   },
   "file_extension": ".py",
   "mimetype": "text/x-python",
   "name": "python",
   "nbconvert_exporter": "python",
   "pygments_lexer": "ipython3",
   "version": "3.5.2"
  }
 },
 "nbformat": 4,
 "nbformat_minor": 1
}
